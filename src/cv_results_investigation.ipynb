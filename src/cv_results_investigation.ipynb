{
 "cells": [
  {
   "cell_type": "markdown",
   "metadata": {},
   "source": [
    "In this notebook we try to better understand the results of cross-validation for small MHNs (3x3 or 4x4).\n",
    "Especially the transferability of lambda results from 3x3 MHNs onto 4x4 MHNs is of our interest"
   ]
  },
  {
   "cell_type": "code",
   "execution_count": 1,
   "metadata": {},
   "outputs": [
    {
     "name": "stderr",
     "output_type": "stream",
     "text": [
      "c:\\Users\\michi\\Desktop\\Uni\\Bachelorarbeit\\ws24_mbonart_mhn-feature-clustering\\.venv\\Lib\\site-packages\\tqdm\\auto.py:21: TqdmWarning: IProgress not found. Please update jupyter and ipywidgets. See https://ipywidgets.readthedocs.io/en/stable/user_install.html\n",
      "  from .autonotebook import tqdm as notebook_tqdm\n"
     ]
    }
   ],
   "source": [
    "import os\n",
    "import mhn_tools as mytools\n",
    "import mhn\n",
    "import pandas as pd\n",
    "import matplotlib.pyplot as plt\n",
    "import numpy as np\n"
   ]
  },
  {
   "cell_type": "code",
   "execution_count": 2,
   "metadata": {},
   "outputs": [],
   "source": [
    "file_names=[\"G16_CH_BLCA_Events.csv\", \"G16_CH_COAD_Events.csv\", \"G16_CH_LUAD_Events.csv\", \"G16_CH_MEL_Events.csv\", \"G16_CH_PRAD_Events.csv\"]\n",
    "file_path=os.path.join( os.getcwd(), '..','data', file_names[2] )\n",
    "input = pd.read_csv(file_path)\n",
    "events=list(input.columns)[1:]"
   ]
  },
  {
   "cell_type": "code",
   "execution_count": 3,
   "metadata": {},
   "outputs": [
    {
     "name": "stdout",
     "output_type": "stream",
     "text": [
      "Doing cv for size 2 with events ['EGFR (M)' 'RB1/13q (Del)']\n"
     ]
    },
    {
     "name": "stderr",
     "output_type": "stream",
     "text": [
      "c:\\Users\\michi\\Desktop\\Uni\\Bachelorarbeit\\ws24_mbonart_mhn-feature-clustering\\.venv\\Lib\\site-packages\\mhn\\optimizers.py:548: UserWarning: Optimal lambda is at a limit (min/max) of the given search range. Consider re-running with adjusted search range.\n",
      "  warnings.warn(\n"
     ]
    },
    {
     "name": "stdout",
     "output_type": "stream",
     "text": [
      "Doing cv for size 2 with events ['ATM (M)' 'EPHA7/6q (Del)']\n",
      "Doing cv for size 2 with events ['ERBB2 (M)' 'FAT1 (M)']\n"
     ]
    },
    {
     "name": "stderr",
     "output_type": "stream",
     "text": [
      "c:\\Users\\michi\\Desktop\\Uni\\Bachelorarbeit\\ws24_mbonart_mhn-feature-clustering\\.venv\\Lib\\site-packages\\mhn\\optimizers.py:548: UserWarning: Optimal lambda is at a limit (min/max) of the given search range. Consider re-running with adjusted search range.\n",
      "  warnings.warn(\n"
     ]
    },
    {
     "name": "stdout",
     "output_type": "stream",
     "text": [
      "Doing cv for size 2 with events ['KRAS (M)' 'MET (M)']\n",
      "Doing cv for size 2 with events ['ATRX (M)' 'MET (M)']\n",
      "Doing cv for size 3 with events ['CH' 'STK11 (M)' 'ARID1A (M)']\n",
      "Doing cv for size 3 with events ['NF1 (M)' 'KRAS (M)' 'ATM (M)']\n"
     ]
    },
    {
     "name": "stderr",
     "output_type": "stream",
     "text": [
      "c:\\Users\\michi\\Desktop\\Uni\\Bachelorarbeit\\ws24_mbonart_mhn-feature-clustering\\.venv\\Lib\\site-packages\\mhn\\optimizers.py:548: UserWarning: Optimal lambda is at a limit (min/max) of the given search range. Consider re-running with adjusted search range.\n",
      "  warnings.warn(\n"
     ]
    },
    {
     "name": "stdout",
     "output_type": "stream",
     "text": [
      "Doing cv for size 3 with events ['EGFR (M)' 'MET (M)' 'ARID2 (M)']\n",
      "Doing cv for size 3 with events ['CH' 'ERBB2 (M)' 'TP53 (M)']\n",
      "Doing cv for size 3 with events ['APC (M)' 'RB1/13q (Del)' 'MYC/8q (Amp)']\n",
      "Doing cv for size 4 with events ['ATRX (M)' 'RB1/13q (Del)' 'PIK3CA (M)' 'KEAP1 (M)']\n",
      "Doing cv for size 4 with events ['EGFR (M)' 'SMARCA4 (M)' 'ATM (M)' 'KRAS (M)']\n",
      "Doing cv for size 4 with events ['EGFR (M)' 'ERBB2 (M)' 'APC (M)' 'RB1 (M)']\n",
      "Doing cv for size 4 with events ['BRAF (M)' 'CDKN2A/9p (Del)' 'SMARCA4 (M)' 'RB1/13q (Del)']\n"
     ]
    },
    {
     "name": "stderr",
     "output_type": "stream",
     "text": [
      "c:\\Users\\michi\\Desktop\\Uni\\Bachelorarbeit\\ws24_mbonart_mhn-feature-clustering\\.venv\\Lib\\site-packages\\mhn\\optimizers.py:548: UserWarning: Optimal lambda is at a limit (min/max) of the given search range. Consider re-running with adjusted search range.\n",
      "  warnings.warn(\n"
     ]
    },
    {
     "name": "stdout",
     "output_type": "stream",
     "text": [
      "Doing cv for size 4 with events ['RBM10 (M)' 'ATRX (M)' 'RB1/13q (Del)' 'MCL1/1q (Amp)']\n",
      "Doing cv for size 5 with events ['KEAP1 (M)' 'SETD2 (M)' 'ARID1A (M)' 'CH' 'TP53 (M)']\n",
      "Doing cv for size 5 with events ['KEAP1 (M)' 'ATRX (M)' 'FAT1 (M)' 'EGFR (M)' 'STK11 (M)']\n",
      "Doing cv for size 5 with events ['FAT1 (M)' 'KMT2D (M)' 'TP53 (M)' 'SMARCA4 (M)' 'ERBB2 (M)']\n",
      "Doing cv for size 5 with events ['CDKN2A/9p (Del)' 'EPHA7/6q (Del)' 'MYC/8q (Amp)' 'FAT1 (M)' 'SETD2 (M)']\n",
      "Doing cv for size 5 with events ['TP53 (M)' 'TERT/5p (Amp)' 'EPHA7/6q (Del)' 'FAT1 (M)' 'KRAS (M)']\n"
     ]
    },
    {
     "name": "stderr",
     "output_type": "stream",
     "text": [
      "c:\\Users\\michi\\Desktop\\Uni\\Bachelorarbeit\\ws24_mbonart_mhn-feature-clustering\\.venv\\Lib\\site-packages\\mhn\\optimizers.py:548: UserWarning: Optimal lambda is at a limit (min/max) of the given search range. Consider re-running with adjusted search range.\n",
      "  warnings.warn(\n"
     ]
    }
   ],
   "source": [
    "np.random.seed(1234)\n",
    "pick_1se=False\n",
    "repetitions=5\n",
    "mhn_sizes=np.repeat([2,3,4,5],repetitions)\n",
    "lambdas=[]\n",
    "for size in mhn_sizes:\n",
    "    ev_choice=np.random.choice(events,size, replace=False)\n",
    "    print(f\"Doing cv for size {size} with events {ev_choice}\")\n",
    "    optimizer = mhn.optimizers.cMHNOptimizer()\n",
    "    reduced_data=input[ev_choice]\n",
    "    #print(reduced_data)\n",
    "    optimizer.load_data_matrix(reduced_data)\n",
    "    lam=optimizer.lambda_from_cv(lambda_vector=mytools.getLambdaSearchRange(reduced_data), pick_1se=pick_1se)\n",
    "    lambdas.append(lam)\n"
   ]
  },
  {
   "cell_type": "code",
   "execution_count": 5,
   "metadata": {},
   "outputs": [
    {
     "name": "stdout",
     "output_type": "stream",
     "text": [
      "Doing cv for size 6 with events ['PIK3CA (M)' 'EGFR (M)' 'APC (M)' 'BRAF (M)' 'BCL2/18q (Del)' 'FAT1 (M)']\n",
      "Doing cv for size 6 with events ['RB1/13q (Del)' 'KMT2D (M)' 'BRAF (M)' 'SMAD4 (M)' 'MCL1/1q (Amp)'\n",
      " 'EGFR/7p (Amp)']\n",
      "Doing cv for size 6 with events ['EPHA7/6q (Del)' 'RB1 (M)' 'BRAF (M)' 'PIK3CA (M)' 'SETD2 (M)'\n",
      " 'KMT2D (M)']\n",
      "Doing cv for size 7 with events ['TERT/5p (Amp)' 'EGFR (M)' 'CH' 'KMT2D (M)' 'FAT1 (M)' 'ERBB2 (M)'\n",
      " 'STK11 (M)']\n",
      "Doing cv for size 7 with events ['KRAS (M)' 'KEAP1 (M)' 'MCL1/1q (Amp)' 'ATRX (M)' 'NF1 (M)' 'SETD2 (M)'\n",
      " 'CDKN2A/9p (Del)']\n",
      "Doing cv for size 8 with events ['MYC/8q (Amp)' 'CH' 'BRAF (M)' 'STK11 (M)' 'KRAS (M)' 'KEAP1 (M)'\n",
      " 'PIK3CA (M)' 'SMARCA4 (M)']\n"
     ]
    }
   ],
   "source": [
    "extra_mhn_sizes=[6,6,6,7,7,8]\n",
    "for size in extra_mhn_sizes:\n",
    "    ev_choice=np.random.choice(events,size, replace=False)\n",
    "    print(f\"Doing cv for size {size} with events {ev_choice}\")\n",
    "    optimizer = mhn.optimizers.cMHNOptimizer()\n",
    "    reduced_data=input[ev_choice]\n",
    "    #print(reduced_data)\n",
    "    optimizer.load_data_matrix(reduced_data)\n",
    "    lam=optimizer.lambda_from_cv(lambda_vector=mytools.getLambdaSearchRange(reduced_data), pick_1se=pick_1se)\n",
    "    lambdas.append(lam)\n",
    "\n",
    "mhn_sizes = np.concatenate((mhn_sizes, extra_mhn_sizes))"
   ]
  },
  {
   "cell_type": "code",
   "execution_count": 6,
   "metadata": {},
   "outputs": [
    {
     "name": "stdout",
     "output_type": "stream",
     "text": [
      "[3.8684819535783336e-05, 0.00038684794538259117, 3.8684819535783336e-05, 0.00012233210108109026, 0.00038684794538259117, 0.00012233210108109026, 3.8684819535783336e-05, 0.00038684794538259117, 0.00012233210108109026, 0.00012233210108109026, 0.00038684794538259117, 0.00038684794538259117, 0.00038684794538259117, 3.8684819535783336e-05, 0.0012233202203200352, 0.00012233210108109026, 0.00038684794538259117, 0.00038684794538259117, 0.00038684794538259117, 3.8684819535783336e-05, 0.00038684794538259117, 0.00038684794538259117, 0.00012233210108109026, 0.00038684794538259117, 0.00038684794538259117, 0.00012233210108109026]\n"
     ]
    },
    {
     "data": {
      "image/png": "[encoded data removed]",
      "text/plain": [
       "<Figure size 640x480 with 1 Axes>"
      ]
     },
     "metadata": {},
     "output_type": "display_data"
    }
   ],
   "source": [
    "print(lambdas)\n",
    "\n",
    "searchrange=mytools.getLambdaSearchRange(input)\n",
    "lam_mid=1.0/len(input)\n",
    "lam_max=searchrange.max()\n",
    "lam_min=searchrange.min()\n",
    "\n",
    "plt.scatter(mhn_sizes, lambdas,alpha=0.2)\n",
    "plt.hlines([lam_mid,lam_max,lam_min],min(mhn_sizes), max(mhn_sizes), colors=['b','r','r'])\n",
    "plt.yscale('log')\n"
   ]
  }
 ],
 "metadata": {
  "kernelspec": {
   "display_name": ".venv",
   "language": "python",
   "name": "python3"
  },
  "language_info": {
   "codemirror_mode": {
    "name": "ipython",
    "version": 3
   },
   "file_extension": ".py",
   "mimetype": "text/x-python",
   "name": "python",
   "nbconvert_exporter": "python",
   "pygments_lexer": "ipython3",
   "version": "3.12.3"
  }
 },
 "nbformat": 4,
 "nbformat_minor": 2
}
