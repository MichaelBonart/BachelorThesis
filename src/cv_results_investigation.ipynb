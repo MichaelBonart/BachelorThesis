{
 "cells": [
  {
   "cell_type": "markdown",
   "metadata": {},
   "source": [
    "In this notebook we try to better understand the results of cross-validation for small MHNs (3x3 or 4x4).\n",
    "Especially the transferability of lambda results from 3x3 MHNs onto 4x4 MHNs is of our interest"
   ]
  },
  {
   "cell_type": "code",
   "execution_count": 1,
   "metadata": {},
   "outputs": [
    {
     "name": "stderr",
     "output_type": "stream",
     "text": [
      "c:\\Users\\michi\\Desktop\\Uni\\Bachelorarbeit\\ws24_mbonart_mhn-feature-clustering\\.venv\\Lib\\site-packages\\tqdm\\auto.py:21: TqdmWarning: IProgress not found. Please update jupyter and ipywidgets. See https://ipywidgets.readthedocs.io/en/stable/user_install.html\n",
      "  from .autonotebook import tqdm as notebook_tqdm\n"
     ]
    }
   ],
   "source": [
    "import os\n",
    "import mhn_tools as mytools\n",
    "import mhn\n",
    "import pandas as pd\n",
    "import matplotlib.pyplot as plt\n",
    "import numpy as np\n"
   ]
  },
  {
   "cell_type": "code",
   "execution_count": 2,
   "metadata": {},
   "outputs": [],
   "source": [
    "file_names=[\"G16_CH_BLCA_Events.csv\", \"G16_CH_COAD_Events.csv\", \"G16_CH_LUAD_Events.csv\", \"G16_CH_MEL_Events.csv\", \"G16_CH_PRAD_Events.csv\"]\n",
    "file_path=os.path.join( os.getcwd(), '..','data', file_names[2] )\n",
    "input = pd.read_csv(file_path)\n",
    "events=list(input.columns)[1:]"
   ]
  },
  {
   "cell_type": "code",
   "execution_count": 3,
   "metadata": {},
   "outputs": [
    {
     "name": "stdout",
     "output_type": "stream",
     "text": [
      "Doing cv for size 2\n"
     ]
    },
    {
     "name": "stderr",
     "output_type": "stream",
     "text": [
      "c:\\Users\\michi\\Desktop\\Uni\\Bachelorarbeit\\ws24_mbonart_mhn-feature-clustering\\.venv\\Lib\\site-packages\\mhn\\optimizers.py:548: UserWarning: Optimal lambda is at a limit (min/max) of the given search range. Consider re-running with adjusted search range.\n",
      "  warnings.warn(\n"
     ]
    },
    {
     "name": "stdout",
     "output_type": "stream",
     "text": [
      "Doing cv for size 2\n"
     ]
    },
    {
     "name": "stderr",
     "output_type": "stream",
     "text": [
      "c:\\Users\\michi\\Desktop\\Uni\\Bachelorarbeit\\ws24_mbonart_mhn-feature-clustering\\.venv\\Lib\\site-packages\\mhn\\optimizers.py:548: UserWarning: Optimal lambda is at a limit (min/max) of the given search range. Consider re-running with adjusted search range.\n",
      "  warnings.warn(\n"
     ]
    },
    {
     "name": "stdout",
     "output_type": "stream",
     "text": [
      "Doing cv for size 2\n",
      "Doing cv for size 2\n"
     ]
    },
    {
     "name": "stderr",
     "output_type": "stream",
     "text": [
      "c:\\Users\\michi\\Desktop\\Uni\\Bachelorarbeit\\ws24_mbonart_mhn-feature-clustering\\.venv\\Lib\\site-packages\\mhn\\optimizers.py:548: UserWarning: Optimal lambda is at a limit (min/max) of the given search range. Consider re-running with adjusted search range.\n",
      "  warnings.warn(\n"
     ]
    },
    {
     "name": "stdout",
     "output_type": "stream",
     "text": [
      "Doing cv for size 2\n",
      "Doing cv for size 3\n",
      "Doing cv for size 3\n"
     ]
    },
    {
     "name": "stderr",
     "output_type": "stream",
     "text": [
      "c:\\Users\\michi\\Desktop\\Uni\\Bachelorarbeit\\ws24_mbonart_mhn-feature-clustering\\.venv\\Lib\\site-packages\\mhn\\optimizers.py:548: UserWarning: Optimal lambda is at a limit (min/max) of the given search range. Consider re-running with adjusted search range.\n",
      "  warnings.warn(\n"
     ]
    },
    {
     "name": "stdout",
     "output_type": "stream",
     "text": [
      "Doing cv for size 3\n"
     ]
    },
    {
     "name": "stderr",
     "output_type": "stream",
     "text": [
      "c:\\Users\\michi\\Desktop\\Uni\\Bachelorarbeit\\ws24_mbonart_mhn-feature-clustering\\.venv\\Lib\\site-packages\\mhn\\optimizers.py:548: UserWarning: Optimal lambda is at a limit (min/max) of the given search range. Consider re-running with adjusted search range.\n",
      "  warnings.warn(\n"
     ]
    },
    {
     "name": "stdout",
     "output_type": "stream",
     "text": [
      "Doing cv for size 3\n"
     ]
    },
    {
     "name": "stderr",
     "output_type": "stream",
     "text": [
      "c:\\Users\\michi\\Desktop\\Uni\\Bachelorarbeit\\ws24_mbonart_mhn-feature-clustering\\.venv\\Lib\\site-packages\\mhn\\optimizers.py:548: UserWarning: Optimal lambda is at a limit (min/max) of the given search range. Consider re-running with adjusted search range.\n",
      "  warnings.warn(\n"
     ]
    },
    {
     "name": "stdout",
     "output_type": "stream",
     "text": [
      "Doing cv for size 3\n"
     ]
    },
    {
     "name": "stderr",
     "output_type": "stream",
     "text": [
      "c:\\Users\\michi\\Desktop\\Uni\\Bachelorarbeit\\ws24_mbonart_mhn-feature-clustering\\.venv\\Lib\\site-packages\\mhn\\optimizers.py:548: UserWarning: Optimal lambda is at a limit (min/max) of the given search range. Consider re-running with adjusted search range.\n",
      "  warnings.warn(\n"
     ]
    },
    {
     "name": "stdout",
     "output_type": "stream",
     "text": [
      "Doing cv for size 4\n"
     ]
    },
    {
     "name": "stderr",
     "output_type": "stream",
     "text": [
      "c:\\Users\\michi\\Desktop\\Uni\\Bachelorarbeit\\ws24_mbonart_mhn-feature-clustering\\.venv\\Lib\\site-packages\\mhn\\optimizers.py:548: UserWarning: Optimal lambda is at a limit (min/max) of the given search range. Consider re-running with adjusted search range.\n",
      "  warnings.warn(\n"
     ]
    },
    {
     "name": "stdout",
     "output_type": "stream",
     "text": [
      "Doing cv for size 4\n",
      "Doing cv for size 4\n",
      "Doing cv for size 4\n"
     ]
    },
    {
     "name": "stderr",
     "output_type": "stream",
     "text": [
      "c:\\Users\\michi\\Desktop\\Uni\\Bachelorarbeit\\ws24_mbonart_mhn-feature-clustering\\.venv\\Lib\\site-packages\\mhn\\optimizers.py:548: UserWarning: Optimal lambda is at a limit (min/max) of the given search range. Consider re-running with adjusted search range.\n",
      "  warnings.warn(\n"
     ]
    },
    {
     "name": "stdout",
     "output_type": "stream",
     "text": [
      "Doing cv for size 4\n"
     ]
    }
   ],
   "source": [
    "repetitions=5\n",
    "mhn_sizes=np.repeat([2,3,4],repetitions)\n",
    "lambdas=[]\n",
    "for size in mhn_sizes:\n",
    "    print(f\"Doing cv for size {size}\")\n",
    "    optimizer = mhn.optimizers.cMHNOptimizer()\n",
    "    reduced_data=input[np.random.choice(events,size)]\n",
    "    #print(reduced_data)\n",
    "    optimizer.load_data_matrix(reduced_data)\n",
    "    lam=optimizer.lambda_from_cv(lambda_vector=mytools.getLambdaSearchRange(reduced_data))\n",
    "    lambdas.append(lam)\n"
   ]
  },
  {
   "cell_type": "code",
   "execution_count": null,
   "metadata": {},
   "outputs": [
    {
     "name": "stdout",
     "output_type": "stream",
     "text": [
      "[0.03868471963578337, 0.03868471963578337, 0.012233221993482438, 0.03868471963578337, 0.012233221993482438, 0.012233221993482438, 0.03868471963578337, 0.03868471963578337, 0.03868471963578337, 0.03868471963578337, 0.03868471963578337, 0.0038684969608360487, 0.0012233301042007462, 0.03868471963578337, 0.0038684969608360487]\n"
     ]
    },
    {
     "data": {
      "text/plain": [
       "<matplotlib.collections.LineCollection at 0x2ce17c931a0>"
      ]
     },
     "execution_count": 5,
     "metadata": {},
     "output_type": "execute_result"
    },
    {
     "data": {
      "image/png": "[encoded data removed]",
      "text/plain": [
       "<Figure size 640x480 with 1 Axes>"
      ]
     },
     "metadata": {},
     "output_type": "display_data"
    }
   ],
   "source": [
    "print(lambdas)\n",
    "\n",
    "searchrange=mytools.getLambdaSearchRange(input)\n",
    "lam_mid=1.0/len(input)\n",
    "lam_max=searchrange.max()\n",
    "lam_min=searchrange.min()\n",
    "\n",
    "plt.scatter(mhn_sizes, lambdas,alpha=0.4)\n",
    "plt.hlines([lam_mid,lam_max,lam_min],min(mhn_sizes), max(mhn_sizes))"
   ]
  }
 ],
 "metadata": {
  "kernelspec": {
   "display_name": ".venv",
   "language": "python",
   "name": "python3"
  },
  "language_info": {
   "codemirror_mode": {
    "name": "ipython",
    "version": 3
   },
   "file_extension": ".py",
   "mimetype": "text/x-python",
   "name": "python",
   "nbconvert_exporter": "python",
   "pygments_lexer": "ipython3",
   "version": "3.12.3"
  }
 },
 "nbformat": 4,
 "nbformat_minor": 2
}
