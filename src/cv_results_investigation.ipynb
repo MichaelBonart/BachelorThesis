{
 "cells": [
  {
   "cell_type": "markdown",
   "metadata": {},
   "source": [
    "In this notebook we try to better understand the results of cross-validation for small MHNs (3x3 or 4x4).\n",
    "Especially the transferability of lambda results from 3x3 MHNs onto 4x4 MHNs is of our interest"
   ]
  },
  {
   "cell_type": "code",
   "execution_count": 1,
   "metadata": {},
   "outputs": [
    {
     "name": "stderr",
     "output_type": "stream",
     "text": [
      "/home/mbonart/ws24_mbonart_mhn-feature-clustering/.venv/lib/python3.10/site-packages/tqdm/auto.py:21: TqdmWarning: IProgress not found. Please update jupyter and ipywidgets. See https://ipywidgets.readthedocs.io/en/stable/user_install.html\n",
      "  from .autonotebook import tqdm as notebook_tqdm\n"
     ]
    }
   ],
   "source": [
    "import os\n",
    "import mhn_tools as mytools\n",
    "import mhn\n",
    "import pandas as pd\n",
    "import matplotlib.pyplot as plt\n",
    "import numpy as np\n"
   ]
  },
  {
   "cell_type": "code",
   "execution_count": 2,
   "metadata": {},
   "outputs": [],
   "source": [
    "file_names=[\"G16_CH_BLCA_Events.csv\", \"G16_CH_COAD_Events.csv\", \"G16_CH_LUAD_Events.csv\", \"G16_CH_MEL_Events.csv\", \"G16_CH_PRAD_Events.csv\"]\n",
    "file_path=os.path.join( os.getcwd(), '..','data', file_names[2] )\n",
    "input = pd.read_csv(file_path)\n",
    "events=list(input.columns)[1:]"
   ]
  },
  {
   "cell_type": "code",
   "execution_count": null,
   "metadata": {},
   "outputs": [
    {
     "name": "stdout",
     "output_type": "stream",
     "text": [
      "Doing cv for size 2 with events ['NF1 (M)' 'ARID1A (M)']\n"
     ]
    },
    {
     "name": "stderr",
     "output_type": "stream",
     "text": [
      "/home/mbonart/ws24_mbonart_mhn-feature-clustering/.venv/lib/python3.10/site-packages/mhn/optimizers.py:548: UserWarning: Optimal lambda is at a limit (min/max) of the given search range. Consider re-running with adjusted search range.\n",
      "  warnings.warn(\n"
     ]
    },
    {
     "name": "stdout",
     "output_type": "stream",
     "text": [
      "Doing cv for size 2 with events ['ARID2 (M)' 'MYC/8q (Amp)']\n"
     ]
    },
    {
     "name": "stderr",
     "output_type": "stream",
     "text": [
      "/home/mbonart/ws24_mbonart_mhn-feature-clustering/.venv/lib/python3.10/site-packages/mhn/optimizers.py:548: UserWarning: Optimal lambda is at a limit (min/max) of the given search range. Consider re-running with adjusted search range.\n",
      "  warnings.warn(\n"
     ]
    },
    {
     "name": "stdout",
     "output_type": "stream",
     "text": [
      "Doing cv for size 2 with events ['BRAF (M)' 'BRAF (M)']\n",
      "Doing cv for size 2 with events ['NF1 (M)' 'SMARCA4 (M)']\n"
     ]
    },
    {
     "name": "stderr",
     "output_type": "stream",
     "text": [
      "/home/mbonart/ws24_mbonart_mhn-feature-clustering/.venv/lib/python3.10/site-packages/mhn/optimizers.py:548: UserWarning: Optimal lambda is at a limit (min/max) of the given search range. Consider re-running with adjusted search range.\n",
      "  warnings.warn(\n"
     ]
    },
    {
     "name": "stdout",
     "output_type": "stream",
     "text": [
      "Doing cv for size 2 with events ['BRAF (M)' 'ERBB2 (M)']\n"
     ]
    },
    {
     "name": "stderr",
     "output_type": "stream",
     "text": [
      "/home/mbonart/ws24_mbonart_mhn-feature-clustering/.venv/lib/python3.10/site-packages/mhn/optimizers.py:548: UserWarning: Optimal lambda is at a limit (min/max) of the given search range. Consider re-running with adjusted search range.\n",
      "  warnings.warn(\n"
     ]
    },
    {
     "name": "stdout",
     "output_type": "stream",
     "text": [
      "Doing cv for size 3 with events ['SMARCA4 (M)' 'CDKN2A/9p (Del)' 'CDKN2A/9p (Del)']\n",
      "Doing cv for size 3 with events ['ARID2 (M)' 'MCL1/1q (Amp)' 'MET (M)']\n",
      "Doing cv for size 3 with events ['SMAD4 (M)' 'SMAD4 (M)' 'ERBB2 (M)']\n",
      "Doing cv for size 3 with events ['RBM10 (M)' 'PIK3CA (M)' 'EPHA7/6q (Del)']\n"
     ]
    },
    {
     "name": "stderr",
     "output_type": "stream",
     "text": [
      "/home/mbonart/ws24_mbonart_mhn-feature-clustering/.venv/lib/python3.10/site-packages/mhn/optimizers.py:548: UserWarning: Optimal lambda is at a limit (min/max) of the given search range. Consider re-running with adjusted search range.\n",
      "  warnings.warn(\n"
     ]
    },
    {
     "name": "stdout",
     "output_type": "stream",
     "text": [
      "Doing cv for size 3 with events ['PIK3CA (M)' 'EGFR (M)' 'BRAF (M)']\n",
      "Doing cv for size 4 with events ['MCL1/1q (Amp)' 'ATM (M)' 'BRAF (M)' 'SMAD4 (M)']\n"
     ]
    },
    {
     "name": "stderr",
     "output_type": "stream",
     "text": [
      "/home/mbonart/ws24_mbonart_mhn-feature-clustering/.venv/lib/python3.10/site-packages/mhn/optimizers.py:548: UserWarning: Optimal lambda is at a limit (min/max) of the given search range. Consider re-running with adjusted search range.\n",
      "  warnings.warn(\n"
     ]
    },
    {
     "name": "stdout",
     "output_type": "stream",
     "text": [
      "Doing cv for size 4 with events ['CH' 'TERT/5p (Amp)' 'TP53 (M)' 'RBM10 (M)']\n",
      "Doing cv for size 4 with events ['FAT1 (M)' 'KMT2D (M)' 'BRAF (M)' 'KRAS (M)']\n",
      "Doing cv for size 4 with events ['KRAS (M)' 'KRAS (M)' 'BRAF (M)' 'EPHA7/6q (Del)']\n",
      "Doing cv for size 4 with events ['ATRX (M)' 'KMT2D (M)' 'RB1/13q (Del)' 'NF1 (M)']\n"
     ]
    },
    {
     "name": "stderr",
     "output_type": "stream",
     "text": [
      "/home/mbonart/ws24_mbonart_mhn-feature-clustering/.venv/lib/python3.10/site-packages/mhn/optimizers.py:548: UserWarning: Optimal lambda is at a limit (min/max) of the given search range. Consider re-running with adjusted search range.\n",
      "  warnings.warn(\n"
     ]
    },
    {
     "name": "stdout",
     "output_type": "stream",
     "text": [
      "Doing cv for size 5 with events ['NF1 (M)' 'SMARCA4 (M)' 'ARID1A (M)' 'KMT2D (M)' 'CH']\n"
     ]
    },
    {
     "name": "stderr",
     "output_type": "stream",
     "text": [
      "/home/mbonart/ws24_mbonart_mhn-feature-clustering/.venv/lib/python3.10/site-packages/mhn/optimizers.py:548: UserWarning: Optimal lambda is at a limit (min/max) of the given search range. Consider re-running with adjusted search range.\n",
      "  warnings.warn(\n"
     ]
    },
    {
     "name": "stdout",
     "output_type": "stream",
     "text": [
      "Doing cv for size 5 with events ['CH' 'KEAP1 (M)' 'CH' 'SMAD4 (M)' 'RB1 (M)']\n",
      "Doing cv for size 5 with events ['BCL2/18q (Del)' 'CDKN2A/9p (Del)' 'TERT/5p (Amp)' 'EGFR (M)' 'BRAF (M)']\n",
      "Doing cv for size 5 with events ['KRAS (M)' 'ARID1A (M)' 'ARID1A (M)' 'TERT/5p (Amp)' 'PIK3CA (M)']\n",
      "Doing cv for size 5 with events ['RB1/13q (Del)' 'ERBB2 (M)' 'PIK3CA (M)' 'EGFR/7p (Amp)' 'EPHA7/6q (Del)']\n"
     ]
    }
   ],
   "source": [
    "np.random.seed(1234)\n",
    "pick_1se=False\n",
    "repetitions=5\n",
    "mhn_sizes=np.repeat([2,3,4,5],repetitions)\n",
    "lambdas=[]\n",
    "for size in mhn_sizes:\n",
    "    ev_choice=np.random.choice(events,size, replace=False)\n",
    "    print(f\"Doing cv for size {size} with events {ev_choice}\")\n",
    "    optimizer = mhn.optimizers.cMHNOptimizer()\n",
    "    reduced_data=input[ev_choice]\n",
    "    #print(reduced_data)\n",
    "    optimizer.load_data_matrix(reduced_data)\n",
    "    lam=optimizer.lambda_from_cv(lambda_vector=mytools.getLambdaSearchRange(reduced_data), pick_1se=pick_1se)\n",
    "    lambdas.append(lam)\n"
   ]
  },
  {
   "cell_type": "code",
   "execution_count": null,
   "metadata": {},
   "outputs": [
    {
     "name": "stdout",
     "output_type": "stream",
     "text": [
      "Doing cv for size 6 with events ['ARID2 (M)' 'RBM10 (M)' 'NF1 (M)' 'STK11 (M)' 'TERT/5p (Amp)' 'CH']\n",
      "Doing cv for size 6 with events ['BRAF (M)' 'ATM (M)' 'ARID2 (M)' 'CH' 'ERBB2 (M)' 'RBM10 (M)']\n"
     ]
    },
    {
     "name": "stderr",
     "output_type": "stream",
     "text": [
      "/home/mbonart/ws24_mbonart_mhn-feature-clustering/.venv/lib/python3.10/site-packages/mhn/optimizers.py:548: UserWarning: Optimal lambda is at a limit (min/max) of the given search range. Consider re-running with adjusted search range.\n",
      "  warnings.warn(\n"
     ]
    },
    {
     "name": "stdout",
     "output_type": "stream",
     "text": [
      "Doing cv for size 6 with events ['PIK3CA (M)' 'ARID2 (M)' 'ATM (M)' 'APC (M)' 'ARID1A (M)' 'ATRX (M)']\n"
     ]
    },
    {
     "name": "stderr",
     "output_type": "stream",
     "text": [
      "/home/mbonart/ws24_mbonart_mhn-feature-clustering/.venv/lib/python3.10/site-packages/mhn/optimizers.py:548: UserWarning: Optimal lambda is at a limit (min/max) of the given search range. Consider re-running with adjusted search range.\n",
      "  warnings.warn(\n"
     ]
    },
    {
     "name": "stdout",
     "output_type": "stream",
     "text": [
      "Doing cv for size 7 with events ['BCL2/18q (Del)' 'PIK3CA (M)' 'ERBB2 (M)' 'CH' 'RBM10 (M)' 'KRAS (M)'\n",
      " 'MYC/8q (Amp)']\n",
      "Doing cv for size 7 with events ['NF1 (M)' 'KRAS (M)' 'ATM (M)' 'STK11 (M)' 'PIK3CA (M)' 'EGFR/7p (Amp)'\n",
      " 'SETD2 (M)']\n",
      "Doing cv for size 8 with events ['MET (M)' 'MYC/8q (Amp)' 'TP53 (M)' 'PIK3CA (M)' 'FAT1 (M)'\n",
      " 'BCL2/18q (Del)' 'RB1/13q (Del)' 'ATM (M)']\n"
     ]
    },
    {
     "ename": "TypeError",
     "evalue": "'list' object cannot be interpreted as an integer",
     "output_type": "error",
     "traceback": [
      "\u001b[0;31m---------------------------------------------------------------------------\u001b[0m",
      "\u001b[0;31mTypeError\u001b[0m                                 Traceback (most recent call last)",
      "Cell \u001b[0;32mIn[5], line 12\u001b[0m\n\u001b[1;32m      9\u001b[0m     lam\u001b[38;5;241m=\u001b[39moptimizer\u001b[38;5;241m.\u001b[39mlambda_from_cv(lambda_vector\u001b[38;5;241m=\u001b[39mmytools\u001b[38;5;241m.\u001b[39mgetLambdaSearchRange(reduced_data))\n\u001b[1;32m     10\u001b[0m     lambdas\u001b[38;5;241m.\u001b[39mappend(lam)\n\u001b[0;32m---> 12\u001b[0m mhn_sizes \u001b[38;5;241m=\u001b[39m \u001b[43mnp\u001b[49m\u001b[38;5;241;43m.\u001b[39;49m\u001b[43mconcatenate\u001b[49m\u001b[43m(\u001b[49m\u001b[43mmhn_sizes\u001b[49m\u001b[43m,\u001b[49m\u001b[43m \u001b[49m\u001b[43mextra_mhn_sizes\u001b[49m\u001b[43m)\u001b[49m\n",
      "\u001b[0;31mTypeError\u001b[0m: 'list' object cannot be interpreted as an integer"
     ]
    }
   ],
   "source": [
    "extra_mhn_sizes=[6,6,6,7,7,8]\n",
    "for size in extra_mhn_sizes:\n",
    "    ev_choice=np.random.choice(events,size, replace=False)\n",
    "    print(f\"Doing cv for size {size} with events {ev_choice}\")\n",
    "    optimizer = mhn.optimizers.cMHNOptimizer()\n",
    "    reduced_data=input[ev_choice]\n",
    "    #print(reduced_data)\n",
    "    optimizer.load_data_matrix(reduced_data)\n",
    "    lam=optimizer.lambda_from_cv(lambda_vector=mytools.getLambdaSearchRange(reduced_data), pick_1se=pick_1se)\n",
    "    lambdas.append(lam)\n",
    "\n",
    "mhn_sizes = np.concatenate((mhn_sizes, extra_mhn_sizes))"
   ]
  },
  {
   "cell_type": "code",
   "execution_count": 7,
   "metadata": {},
   "outputs": [
    {
     "name": "stdout",
     "output_type": "stream",
     "text": [
      "[0.38684719545783364, 0.38684719545783364, 0.0038684769540751093, 0.38684719545783364, 0.38684719545783364, 0.0038684769540751093, 0.0038684769540751093, 0.0038684769540751093, 0.38684719545783364, 0.0038684769540751093, 0.38684719545783364, 0.001223320220320036, 0.0038684769540751093, 0.001223320220320036, 0.38684719545783364, 0.38684719545783364, 0.0038684769540751093, 0.0038684769540751093, 0.001223320220320036, 0.012233194298296784, 0.012233194298296784, 0.38684719545783364, 0.38684719545783364, 0.001223320220320036, 0.001223320220320036, 0.0038684769540751093]\n"
     ]
    },
    {
     "data": {
      "image/png": "[encoded data removed]",
      "text/plain": [
       "<Figure size 640x480 with 1 Axes>"
      ]
     },
     "metadata": {},
     "output_type": "display_data"
    }
   ],
   "source": [
    "print(lambdas)\n",
    "\n",
    "searchrange=mytools.getLambdaSearchRange(input)\n",
    "lam_mid=1.0/len(input)\n",
    "lam_max=searchrange.max()\n",
    "lam_min=searchrange.min()\n",
    "\n",
    "plt.scatter(mhn_sizes, lambdas,alpha=0.2)\n",
    "plt.hlines([lam_mid,lam_max,lam_min],min(mhn_sizes), max(mhn_sizes), colors=['b','r','r'])\n",
    "plt.yscale('log')\n"
   ]
  }
 ],
 "metadata": {
  "kernelspec": {
   "display_name": ".venv",
   "language": "python",
   "name": "python3"
  },
  "language_info": {
   "codemirror_mode": {
    "name": "ipython",
    "version": 3
   },
   "file_extension": ".py",
   "mimetype": "text/x-python",
   "name": "python",
   "nbconvert_exporter": "python",
   "pygments_lexer": "ipython3",
   "version": "3.12.3"
  }
 },
 "nbformat": 4,
 "nbformat_minor": 2
}
