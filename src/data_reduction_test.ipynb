{
 "cells": [
  {
   "cell_type": "markdown",
   "id": "3dc89e3c",
   "metadata": {},
   "source": [
    "This notebook analyzes the effects of reducing a dataset to fewer columns"
   ]
  },
  {
   "cell_type": "code",
   "execution_count": 1,
   "id": "bd343f6f",
   "metadata": {},
   "outputs": [
    {
     "name": "stderr",
     "output_type": "stream",
     "text": [
      "c:\\Users\\michi\\Desktop\\Uni\\Bachelorarbeit\\ws24_mbonart_mhn-feature-clustering\\.venv\\Lib\\site-packages\\tqdm\\auto.py:21: TqdmWarning: IProgress not found. Please update jupyter and ipywidgets. See https://ipywidgets.readthedocs.io/en/stable/user_install.html\n",
      "  from .autonotebook import tqdm as notebook_tqdm\n"
     ]
    }
   ],
   "source": [
    "from typing import List\n",
    "import mhn\n",
    "\n",
    "import numpy as np\n",
    "import pandas as pd\n",
    "import seaborn as sns\n",
    "import matplotlib.pyplot as plt\n",
    "import scipy.spatial\n",
    "import scipy.cluster\n",
    "import RandomMHNGenerator as rmg\n",
    "import ClusterableMhnGenerator as cmg\n",
    "import EventDistanceMeasurer as edm\n",
    "import mhn_tools as mytools"
   ]
  },
  {
   "cell_type": "code",
   "execution_count": 2,
   "id": "b33f0d49",
   "metadata": {},
   "outputs": [
    {
     "name": "stdout",
     "output_type": "stream",
     "text": [
      "loading from mbonart_checkpoints/rmg1/mhn_SET\n",
      "loading from mbonart_checkpoints/rmg1/mhn_TRAINED\n",
      "['T0', 'T1', 'T2']\n"
     ]
    }
   ],
   "source": [
    "np.random.seed(12345)\n",
    "\n",
    "cl_generator = cmg.ClusterableMhnGenerator(3,5)\n",
    "rand_generator = rmg.RandomMHNGenerator(cl_generator.getEvents())\n",
    "rand_generator.loadfrom(\"mbonart_checkpoints/rmg1\")\n",
    "cl_generator.setClusterMHN(rand_generator.getMHN())\n",
    "cl_generator.splitClusters([2,3,4,1,4])\n",
    "cl_generator.randomizeBaseRates()   #leave out this line for already computed results\n",
    "\n",
    "test_events = cl_generator.getEvents(cmg.DOM.TEST)\n",
    "events = cl_generator.getEvents(cmg.DOM.CLUSTER)\n",
    "\n",
    "print(test_events)"
   ]
  },
  {
   "cell_type": "code",
   "execution_count": 3,
   "id": "6bf83ffd",
   "metadata": {},
   "outputs": [
    {
     "name": "stdout",
     "output_type": "stream",
     "text": [
      "length: 100000\n",
      "comprised length: 41290\n"
     ]
    }
   ],
   "source": [
    "n=100000\n",
    "sampled_data=cl_generator.getMHN().sample_artificial_data(n, as_dataframe=True)\n",
    "reduced_data=sampled_data[test_events]\n",
    "print(f\"length: {len(reduced_data)}\")\n",
    "\n",
    "comprised_data=mytools.eliminateZeroRows(reduced_data)\n",
    "print(f\"comprised length: {len(comprised_data)}\")\n"
   ]
  }
 ],
 "metadata": {
  "kernelspec": {
   "display_name": ".venv",
   "language": "python",
   "name": "python3"
  },
  "language_info": {
   "codemirror_mode": {
    "name": "ipython",
    "version": 3
   },
   "file_extension": ".py",
   "mimetype": "text/x-python",
   "name": "python",
   "nbconvert_exporter": "python",
   "pygments_lexer": "ipython3",
   "version": "3.12.3"
  }
 },
 "nbformat": 4,
 "nbformat_minor": 5
}
