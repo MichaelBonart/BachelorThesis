{
 "cells": [
  {
   "cell_type": "code",
   "execution_count": null,
   "metadata": {},
   "outputs": [
    {
     "name": "stderr",
     "output_type": "stream",
     "text": [
      "c:\\Users\\michi\\Desktop\\Uni\\Bachelorarbeit\\ws24_mbonart_mhn-feature-clustering\\.venv\\Lib\\site-packages\\tqdm\\auto.py:21: TqdmWarning: IProgress not found. Please update jupyter and ipywidgets. See https://ipywidgets.readthedocs.io/en/stable/user_install.html\n",
      "  from .autonotebook import tqdm as notebook_tqdm\n"
     ]
    },
    {
     "name": "stdout",
     "output_type": "stream",
     "text": [
      "loading from mbonart_checkpoints/rmg1/mhn_SET\n",
      "loading from mbonart_checkpoints/rmg1/mhn_TRAINED\n"
     ]
    },
    {
     "data": {
      "text/plain": [
       "<ClusterableMhnGenerator.ClusterableMhnGenerator at 0x1fd39fc6cc0>"
      ]
     },
     "execution_count": 1,
     "metadata": {},
     "output_type": "execute_result"
    }
   ],
   "source": [
    "\n",
    "from typing import List\n",
    "import mhn\n",
    "\n",
    "import numpy as np\n",
    "import pandas as pd\n",
    "import RandomMHNGenerator as rmg\n",
    "import ClusterableMhnGenerator as cmg\n",
    "import EventDistanceMeasurer as edm\n",
    "\n",
    "\n",
    "#sampled_data=cl_generator.getMHN().sample_artificial_data(100000, as_dataframe=True)"
   ]
  },
  {
   "cell_type": "code",
   "execution_count": null,
   "metadata": {},
   "outputs": [
    {
     "name": "stdout",
     "output_type": "stream",
     "text": [
      "0x1.bbe2321111fe5p+63\n",
      "Directory for storage is edm_0x1.bbe2321111fe5p+63\n",
      "check if mbonart_checkpoints/edm_0x1.bbe2321111fe5p+63   does exist\n"
     ]
    }
   ],
   "source": [
    "np.random.seed(12345)\n",
    "\n",
    "cl_generator = cmg.ClusterableMhnGenerator(3,5)\n",
    "rand_generator = rmg.RandomMHNGenerator(cl_generator.getEvents())\n",
    "rand_generator.loadfrom(\"mbonart_checkpoints/rmg1\")\n",
    "cl_generator.splitClusters([2,3,4,1,4])\n",
    "\n",
    "test_events = cl_generator.getEvents(cmg.DOM.TEST)\n",
    "events = cl_generator.getEvents(cmg.DOM.CLUSTER)\n",
    "\n",
    "sampled_datas:List[pd.DataFrame]=[]\n",
    "\n",
    "dist_measurers = []\n",
    "\n",
    "\n",
    "noise_steps=10\n",
    "noise_inc=0.1\n",
    "for i in range(noise_steps):\n",
    "    \n",
    "    dist_measurer=edm.EventDistanceMeasurerCP(test_events, events)\n",
    "    sampled_data=cl_generator.getMHN().sample_artificial_data(100000, as_dataframe=True)\n",
    "\n",
    "    dist_measurer.load_data(sampled_data)\n",
    "    dist_measurer.train_All_MHNs()\n",
    "    dist_measurer.compute_distance_matrix(edm.DIST.OFFDIAG_EUCLID)\n",
    "\n",
    "    \n",
    "    sampled_datas.append(sampled_data)\n",
    "    dist_measurers.append(dist_measurer)\n",
    "    cl_generator.addNoiseOffDiags(noise_inc)\n",
    "\n"
   ]
  }
 ],
 "metadata": {
  "kernelspec": {
   "display_name": ".venv",
   "language": "python",
   "name": "python3"
  },
  "language_info": {
   "codemirror_mode": {
    "name": "ipython",
    "version": 3
   },
   "file_extension": ".py",
   "mimetype": "text/x-python",
   "name": "python",
   "nbconvert_exporter": "python",
   "pygments_lexer": "ipython3",
   "version": "3.12.3"
  }
 },
 "nbformat": 4,
 "nbformat_minor": 2
}
