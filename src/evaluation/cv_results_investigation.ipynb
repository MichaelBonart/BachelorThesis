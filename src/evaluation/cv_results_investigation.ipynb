{
 "cells": [
  {
   "cell_type": "markdown",
   "metadata": {},
   "source": [
    "In this notebook we try to better understand the results of cross-validation for small MHNs (3x3 or 4x4).\n",
    "Especially the transferability of lambda results from 3x3 MHNs onto 4x4 MHNs is of our interest"
   ]
  },
  {
   "cell_type": "code",
   "execution_count": 3,
   "metadata": {},
   "outputs": [],
   "source": [
    "import __init__\n",
    "import os\n",
    "from definition import mhn_tools as mytools\n",
    "import mhn\n",
    "import pandas as pd\n",
    "import matplotlib.pyplot as plt\n",
    "import numpy as np\n"
   ]
  },
  {
   "cell_type": "code",
   "execution_count": 4,
   "metadata": {},
   "outputs": [],
   "source": [
    "file_names=[\"G16_CH_BLCA_Events.csv\", \"G16_CH_COAD_Events.csv\", \"G16_CH_LUAD_Events.csv\", \"G16_CH_MEL_Events.csv\", \"G16_CH_PRAD_Events.csv\"]\n",
    "file_path=os.path.join( os.getcwd(), '../..','data', file_names[2] )\n",
    "input = pd.read_csv(file_path)\n",
    "events=list(input.columns)[1:]"
   ]
  },
  {
   "cell_type": "code",
   "execution_count": 5,
   "metadata": {},
   "outputs": [
    {
     "name": "stdout",
     "output_type": "stream",
     "text": [
      "Doing cv for size 2 with events ['EGFR (M)' 'RB1/13q (Del)']\n"
     ]
    },
    {
     "ename": "KeyboardInterrupt",
     "evalue": "",
     "output_type": "error",
     "traceback": [
      "\u001b[31m---------------------------------------------------------------------------\u001b[39m",
      "\u001b[31mKeyboardInterrupt\u001b[39m                         Traceback (most recent call last)",
      "\u001b[36mCell\u001b[39m\u001b[36m \u001b[39m\u001b[32mIn[5]\u001b[39m\u001b[32m, line 13\u001b[39m\n\u001b[32m     11\u001b[39m \u001b[38;5;66;03m#print(reduced_data)\u001b[39;00m\n\u001b[32m     12\u001b[39m optimizer.load_data_matrix(reduced_data)\n\u001b[32m---> \u001b[39m\u001b[32m13\u001b[39m lam=\u001b[43moptimizer\u001b[49m\u001b[43m.\u001b[49m\u001b[43mlambda_from_cv\u001b[49m\u001b[43m(\u001b[49m\u001b[43mlambda_vector\u001b[49m\u001b[43m=\u001b[49m\u001b[43mmytools\u001b[49m\u001b[43m.\u001b[49m\u001b[43mgetLambdaSearchRange\u001b[49m\u001b[43m(\u001b[49m\u001b[43mreduced_data\u001b[49m\u001b[43m)\u001b[49m\u001b[43m,\u001b[49m\u001b[43m \u001b[49m\u001b[43mpick_1se\u001b[49m\u001b[43m=\u001b[49m\u001b[43mpick_1se\u001b[49m\u001b[43m)\u001b[49m\n\u001b[32m     14\u001b[39m lambdas.append(lam)\n",
      "\u001b[36mFile \u001b[39m\u001b[32mc:\\Users\\michi\\Desktop\\Uni\\Bachelorarbeit\\ws24_mbonart_mhn-feature-clustering\\.venv\\Lib\\site-packages\\mhn\\optimizers.py:522\u001b[39m, in \u001b[36mcMHNOptimizer.lambda_from_cv\u001b[39m\u001b[34m(self, lambda_min, lambda_max, steps, nfolds, lambda_vector, show_progressbar, return_lambda_scores, pick_1se)\u001b[39m\n\u001b[32m    519\u001b[39m opt.load_data_matrix(train_data)\n\u001b[32m    521\u001b[39m \u001b[38;5;28;01mfor\u001b[39;00m i \u001b[38;5;129;01min\u001b[39;00m trange(steps, desc=\u001b[33m\"\u001b[39m\u001b[33mLambda Evaluation\u001b[39m\u001b[33m\"\u001b[39m, position=\u001b[32m1\u001b[39m, leave=\u001b[38;5;28;01mFalse\u001b[39;00m, disable=disable_progressbar):\n\u001b[32m--> \u001b[39m\u001b[32m522\u001b[39m     \u001b[43mopt\u001b[49m\u001b[43m.\u001b[49m\u001b[43mtrain\u001b[49m\u001b[43m(\u001b[49m\u001b[43mlam\u001b[49m\u001b[43m=\u001b[49m\u001b[43mlambda_path\u001b[49m\u001b[43m[\u001b[49m\u001b[43mi\u001b[49m\u001b[43m]\u001b[49m\u001b[43m.\u001b[49m\u001b[43mitem\u001b[49m\u001b[43m(\u001b[49m\u001b[43m)\u001b[49m\u001b[43m)\u001b[49m\n\u001b[32m    523\u001b[39m     theta = opt.result.log_theta\n\u001b[32m    524\u001b[39m     \u001b[38;5;66;03m# make sure that events have not a rate of zero, which can become\u001b[39;00m\n\u001b[32m    525\u001b[39m     \u001b[38;5;66;03m# a problem if the event is present in the test set, in which case\u001b[39;00m\n\u001b[32m    526\u001b[39m     \u001b[38;5;66;03m# this would lead to score = -inf\u001b[39;00m\n",
      "\u001b[36mFile \u001b[39m\u001b[32mc:\\Users\\michi\\Desktop\\Uni\\Bachelorarbeit\\ws24_mbonart_mhn-feature-clustering\\.venv\\Lib\\site-packages\\mhn\\optimizers.py:229\u001b[39m, in \u001b[36m_Optimizer.train\u001b[39m\u001b[34m(self, lam, maxit, trace, reltol, round_result)\u001b[39m\n\u001b[32m    224\u001b[39m score_func = \u001b[38;5;28mself\u001b[39m._regularized_score_func_builder(\n\u001b[32m    225\u001b[39m     \u001b[38;5;28mself\u001b[39m._gradient_and_score_func)\n\u001b[32m    226\u001b[39m gradient_func = \u001b[38;5;28mself\u001b[39m._regularized_gradient_func_builder(\n\u001b[32m    227\u001b[39m     \u001b[38;5;28mself\u001b[39m._gradient_and_score_func)\n\u001b[32m--> \u001b[39m\u001b[32m229\u001b[39m result = \u001b[43mreg_optim\u001b[49m\u001b[43m.\u001b[49m\u001b[43mlearn_mhn\u001b[49m\u001b[43m(\u001b[49m\u001b[38;5;28;43mself\u001b[39;49m\u001b[43m.\u001b[49m\u001b[43m_data\u001b[49m\u001b[43m,\u001b[49m\u001b[43m \u001b[49m\u001b[43mscore_func\u001b[49m\u001b[43m,\u001b[49m\u001b[43m \u001b[49m\u001b[43mgradient_func\u001b[49m\u001b[43m,\u001b[49m\u001b[43m \u001b[49m\u001b[38;5;28;43mself\u001b[39;49m\u001b[43m.\u001b[49m\u001b[43m_init_theta\u001b[49m\u001b[43m,\u001b[49m\u001b[43m \u001b[49m\u001b[43mlam\u001b[49m\u001b[43m,\u001b[49m\u001b[43m \u001b[49m\u001b[43mmaxit\u001b[49m\u001b[43m,\u001b[49m\u001b[43m \u001b[49m\u001b[43mtrace\u001b[49m\u001b[43m,\u001b[49m\u001b[43m \u001b[49m\u001b[43mreltol\u001b[49m\u001b[43m,\u001b[49m\n\u001b[32m    230\u001b[39m \u001b[43m                             \u001b[49m\u001b[43mround_result\u001b[49m\u001b[43m,\u001b[49m\u001b[43m \u001b[49m\u001b[43mcallback_func\u001b[49m\u001b[43m)\u001b[49m\n\u001b[32m    232\u001b[39m \u001b[38;5;28mself\u001b[39m.__backup_current_step = \u001b[38;5;28;01mNone\u001b[39;00m\n\u001b[32m    234\u001b[39m \u001b[38;5;28mself\u001b[39m._result = \u001b[38;5;28mself\u001b[39m._OutputMHNClass(\n\u001b[32m    235\u001b[39m     log_theta=result.x,\n\u001b[32m    236\u001b[39m     events=\u001b[38;5;28mself\u001b[39m._events,\n\u001b[32m   (...)\u001b[39m\u001b[32m    245\u001b[39m         \u001b[33m\"\u001b[39m\u001b[33mnit\u001b[39m\u001b[33m\"\u001b[39m: result.nit\n\u001b[32m    246\u001b[39m     })\n",
      "\u001b[36mFile \u001b[39m\u001b[32mc:\\Users\\michi\\Desktop\\Uni\\Bachelorarbeit\\ws24_mbonart_mhn-feature-clustering\\.venv\\Lib\\site-packages\\mhn\\training\\regularized_optimization.py:47\u001b[39m, in \u001b[36mlearn_mhn\u001b[39m\u001b[34m(states, score_func, jacobi, init, lam, maxit, trace, reltol, round_result, callback)\u001b[39m\n\u001b[32m     44\u001b[39m \u001b[38;5;66;03m# this container is given to the score and gradient function to communicate with each other\u001b[39;00m\n\u001b[32m     45\u001b[39m score_and_gradient_container = [\u001b[38;5;28;01mNone\u001b[39;00m, \u001b[38;5;28;01mNone\u001b[39;00m]\n\u001b[32m---> \u001b[39m\u001b[32m47\u001b[39m opt = \u001b[43mminimize\u001b[49m\u001b[43m(\u001b[49m\u001b[43mfun\u001b[49m\u001b[43m=\u001b[49m\u001b[43mscore_func\u001b[49m\u001b[43m,\u001b[49m\u001b[43m \u001b[49m\u001b[43mx0\u001b[49m\u001b[43m=\u001b[49m\u001b[43minit\u001b[49m\u001b[43m,\u001b[49m\u001b[43m \u001b[49m\u001b[43margs\u001b[49m\u001b[43m=\u001b[49m\u001b[43m(\u001b[49m\u001b[43mstates\u001b[49m\u001b[43m,\u001b[49m\u001b[43m \u001b[49m\u001b[43mlam\u001b[49m\u001b[43m,\u001b[49m\u001b[43m \u001b[49m\u001b[43mn\u001b[49m\u001b[43m,\u001b[49m\u001b[43m \u001b[49m\u001b[43mscore_and_gradient_container\u001b[49m\u001b[43m)\u001b[49m\u001b[43m,\u001b[49m\u001b[43m \u001b[49m\u001b[43mmethod\u001b[49m\u001b[43m=\u001b[49m\u001b[33;43m\"\u001b[39;49m\u001b[33;43mL-BFGS-B\u001b[39;49m\u001b[33;43m\"\u001b[39;49m\u001b[43m,\u001b[49m\n\u001b[32m     48\u001b[39m \u001b[43m               \u001b[49m\u001b[43mjac\u001b[49m\u001b[43m=\u001b[49m\u001b[43mjacobi\u001b[49m\u001b[43m,\u001b[49m\u001b[43m \u001b[49m\u001b[43moptions\u001b[49m\u001b[43m=\u001b[49m\u001b[43m{\u001b[49m\u001b[33;43m'\u001b[39;49m\u001b[33;43mmaxiter\u001b[39;49m\u001b[33;43m'\u001b[39;49m\u001b[43m:\u001b[49m\u001b[43m \u001b[49m\u001b[43mmaxit\u001b[49m\u001b[43m,\u001b[49m\u001b[43m \u001b[49m\u001b[33;43m'\u001b[39;49m\u001b[33;43mdisp\u001b[39;49m\u001b[33;43m'\u001b[39;49m\u001b[43m:\u001b[49m\u001b[43m \u001b[49m\u001b[43mtrace\u001b[49m\u001b[43m,\u001b[49m\u001b[43m \u001b[49m\u001b[33;43m'\u001b[39;49m\u001b[33;43mgtol\u001b[39;49m\u001b[33;43m'\u001b[39;49m\u001b[43m:\u001b[49m\u001b[43m \u001b[49m\u001b[43mreltol\u001b[49m\u001b[43m}\u001b[49m\u001b[43m,\u001b[49m\u001b[43m \u001b[49m\u001b[43mcallback\u001b[49m\u001b[43m=\u001b[49m\u001b[43mcallback\u001b[49m\u001b[43m)\u001b[49m\n\u001b[32m     50\u001b[39m opt.x = opt.x.reshape(init_shape)\n\u001b[32m     52\u001b[39m \u001b[38;5;28;01mif\u001b[39;00m round_result:\n",
      "\u001b[36mFile \u001b[39m\u001b[32mc:\\Users\\michi\\Desktop\\Uni\\Bachelorarbeit\\ws24_mbonart_mhn-feature-clustering\\.venv\\Lib\\site-packages\\scipy\\optimize\\_minimize.py:731\u001b[39m, in \u001b[36mminimize\u001b[39m\u001b[34m(fun, x0, args, method, jac, hess, hessp, bounds, constraints, tol, callback, options)\u001b[39m\n\u001b[32m    728\u001b[39m     res = _minimize_newtoncg(fun, x0, args, jac, hess, hessp, callback,\n\u001b[32m    729\u001b[39m                              **options)\n\u001b[32m    730\u001b[39m \u001b[38;5;28;01melif\u001b[39;00m meth == \u001b[33m'\u001b[39m\u001b[33ml-bfgs-b\u001b[39m\u001b[33m'\u001b[39m:\n\u001b[32m--> \u001b[39m\u001b[32m731\u001b[39m     res = \u001b[43m_minimize_lbfgsb\u001b[49m\u001b[43m(\u001b[49m\u001b[43mfun\u001b[49m\u001b[43m,\u001b[49m\u001b[43m \u001b[49m\u001b[43mx0\u001b[49m\u001b[43m,\u001b[49m\u001b[43m \u001b[49m\u001b[43margs\u001b[49m\u001b[43m,\u001b[49m\u001b[43m \u001b[49m\u001b[43mjac\u001b[49m\u001b[43m,\u001b[49m\u001b[43m \u001b[49m\u001b[43mbounds\u001b[49m\u001b[43m,\u001b[49m\n\u001b[32m    732\u001b[39m \u001b[43m                           \u001b[49m\u001b[43mcallback\u001b[49m\u001b[43m=\u001b[49m\u001b[43mcallback\u001b[49m\u001b[43m,\u001b[49m\u001b[43m \u001b[49m\u001b[43m*\u001b[49m\u001b[43m*\u001b[49m\u001b[43moptions\u001b[49m\u001b[43m)\u001b[49m\n\u001b[32m    733\u001b[39m \u001b[38;5;28;01melif\u001b[39;00m meth == \u001b[33m'\u001b[39m\u001b[33mtnc\u001b[39m\u001b[33m'\u001b[39m:\n\u001b[32m    734\u001b[39m     res = _minimize_tnc(fun, x0, args, jac, bounds, callback=callback,\n\u001b[32m    735\u001b[39m                         **options)\n",
      "\u001b[36mFile \u001b[39m\u001b[32mc:\\Users\\michi\\Desktop\\Uni\\Bachelorarbeit\\ws24_mbonart_mhn-feature-clustering\\.venv\\Lib\\site-packages\\scipy\\optimize\\_lbfgsb_py.py:407\u001b[39m, in \u001b[36m_minimize_lbfgsb\u001b[39m\u001b[34m(fun, x0, args, jac, bounds, disp, maxcor, ftol, gtol, eps, maxfun, maxiter, iprint, callback, maxls, finite_diff_rel_step, **unknown_options)\u001b[39m\n\u001b[32m    401\u001b[39m task_str = task.tobytes()\n\u001b[32m    402\u001b[39m \u001b[38;5;28;01mif\u001b[39;00m task_str.startswith(\u001b[33mb\u001b[39m\u001b[33m'\u001b[39m\u001b[33mFG\u001b[39m\u001b[33m'\u001b[39m):\n\u001b[32m    403\u001b[39m     \u001b[38;5;66;03m# The minimization routine wants f and g at the current x.\u001b[39;00m\n\u001b[32m    404\u001b[39m     \u001b[38;5;66;03m# Note that interruptions due to maxfun are postponed\u001b[39;00m\n\u001b[32m    405\u001b[39m     \u001b[38;5;66;03m# until the completion of the current minimization iteration.\u001b[39;00m\n\u001b[32m    406\u001b[39m     \u001b[38;5;66;03m# Overwrite f and g:\u001b[39;00m\n\u001b[32m--> \u001b[39m\u001b[32m407\u001b[39m     f, g = \u001b[43mfunc_and_grad\u001b[49m\u001b[43m(\u001b[49m\u001b[43mx\u001b[49m\u001b[43m)\u001b[49m\n\u001b[32m    408\u001b[39m \u001b[38;5;28;01melif\u001b[39;00m task_str.startswith(\u001b[33mb\u001b[39m\u001b[33m'\u001b[39m\u001b[33mNEW_X\u001b[39m\u001b[33m'\u001b[39m):\n\u001b[32m    409\u001b[39m     \u001b[38;5;66;03m# new iteration\u001b[39;00m\n\u001b[32m    410\u001b[39m     n_iterations += \u001b[32m1\u001b[39m\n",
      "\u001b[36mFile \u001b[39m\u001b[32mc:\\Users\\michi\\Desktop\\Uni\\Bachelorarbeit\\ws24_mbonart_mhn-feature-clustering\\.venv\\Lib\\site-packages\\scipy\\optimize\\_differentiable_functions.py:343\u001b[39m, in \u001b[36mScalarFunction.fun_and_grad\u001b[39m\u001b[34m(self, x)\u001b[39m\n\u001b[32m    341\u001b[39m \u001b[38;5;28;01mif\u001b[39;00m \u001b[38;5;129;01mnot\u001b[39;00m np.array_equal(x, \u001b[38;5;28mself\u001b[39m.x):\n\u001b[32m    342\u001b[39m     \u001b[38;5;28mself\u001b[39m._update_x(x)\n\u001b[32m--> \u001b[39m\u001b[32m343\u001b[39m \u001b[38;5;28;43mself\u001b[39;49m\u001b[43m.\u001b[49m\u001b[43m_update_fun\u001b[49m\u001b[43m(\u001b[49m\u001b[43m)\u001b[49m\n\u001b[32m    344\u001b[39m \u001b[38;5;28mself\u001b[39m._update_grad()\n\u001b[32m    345\u001b[39m \u001b[38;5;28;01mreturn\u001b[39;00m \u001b[38;5;28mself\u001b[39m.f, \u001b[38;5;28mself\u001b[39m.g\n",
      "\u001b[36mFile \u001b[39m\u001b[32mc:\\Users\\michi\\Desktop\\Uni\\Bachelorarbeit\\ws24_mbonart_mhn-feature-clustering\\.venv\\Lib\\site-packages\\scipy\\optimize\\_differentiable_functions.py:294\u001b[39m, in \u001b[36mScalarFunction._update_fun\u001b[39m\u001b[34m(self)\u001b[39m\n\u001b[32m    292\u001b[39m \u001b[38;5;28;01mdef\u001b[39;00m\u001b[38;5;250m \u001b[39m\u001b[34m_update_fun\u001b[39m(\u001b[38;5;28mself\u001b[39m):\n\u001b[32m    293\u001b[39m     \u001b[38;5;28;01mif\u001b[39;00m \u001b[38;5;129;01mnot\u001b[39;00m \u001b[38;5;28mself\u001b[39m.f_updated:\n\u001b[32m--> \u001b[39m\u001b[32m294\u001b[39m         fx = \u001b[38;5;28;43mself\u001b[39;49m\u001b[43m.\u001b[49m\u001b[43m_wrapped_fun\u001b[49m\u001b[43m(\u001b[49m\u001b[38;5;28;43mself\u001b[39;49m\u001b[43m.\u001b[49m\u001b[43mx\u001b[49m\u001b[43m)\u001b[49m\n\u001b[32m    295\u001b[39m         \u001b[38;5;28;01mif\u001b[39;00m fx < \u001b[38;5;28mself\u001b[39m._lowest_f:\n\u001b[32m    296\u001b[39m             \u001b[38;5;28mself\u001b[39m._lowest_x = \u001b[38;5;28mself\u001b[39m.x\n",
      "\u001b[36mFile \u001b[39m\u001b[32mc:\\Users\\michi\\Desktop\\Uni\\Bachelorarbeit\\ws24_mbonart_mhn-feature-clustering\\.venv\\Lib\\site-packages\\scipy\\optimize\\_differentiable_functions.py:20\u001b[39m, in \u001b[36m_wrapper_fun.<locals>.wrapped\u001b[39m\u001b[34m(x)\u001b[39m\n\u001b[32m     16\u001b[39m ncalls[\u001b[32m0\u001b[39m] += \u001b[32m1\u001b[39m\n\u001b[32m     17\u001b[39m \u001b[38;5;66;03m# Send a copy because the user may overwrite it.\u001b[39;00m\n\u001b[32m     18\u001b[39m \u001b[38;5;66;03m# Overwriting results in undefined behaviour because\u001b[39;00m\n\u001b[32m     19\u001b[39m \u001b[38;5;66;03m# fun(self.x) will change self.x, with the two no longer linked.\u001b[39;00m\n\u001b[32m---> \u001b[39m\u001b[32m20\u001b[39m fx = \u001b[43mfun\u001b[49m\u001b[43m(\u001b[49m\u001b[43mnp\u001b[49m\u001b[43m.\u001b[49m\u001b[43mcopy\u001b[49m\u001b[43m(\u001b[49m\u001b[43mx\u001b[49m\u001b[43m)\u001b[49m\u001b[43m,\u001b[49m\u001b[43m \u001b[49m\u001b[43m*\u001b[49m\u001b[43margs\u001b[49m\u001b[43m)\u001b[49m\n\u001b[32m     21\u001b[39m \u001b[38;5;66;03m# Make sure the function returns a true scalar\u001b[39;00m\n\u001b[32m     22\u001b[39m \u001b[38;5;28;01mif\u001b[39;00m \u001b[38;5;129;01mnot\u001b[39;00m np.isscalar(fx):\n",
      "\u001b[36mFile \u001b[39m\u001b[32mc:\\Users\\michi\\Desktop\\Uni\\Bachelorarbeit\\ws24_mbonart_mhn-feature-clustering\\.venv\\Lib\\site-packages\\mhn\\training\\penalties_cmhn.py:152\u001b[39m, in \u001b[36mbuild_regularized_score_func.<locals>.reg_score_func\u001b[39m\u001b[34m(theta, states, lam, n, score_grad_container)\u001b[39m\n\u001b[32m    149\u001b[39m grad, score = gradient_and_score_function(theta, states)\n\u001b[32m    150\u001b[39m score_grad_container[\u001b[32m0\u001b[39m] = grad\n\u001b[32m--> \u001b[39m\u001b[32m152\u001b[39m \u001b[38;5;28;01mreturn\u001b[39;00m -(score - lam * \u001b[43mpenalty_function\u001b[49m\u001b[43m(\u001b[49m\u001b[43mtheta\u001b[49m\u001b[43m)\u001b[49m)\n",
      "\u001b[36mFile \u001b[39m\u001b[32mc:\\Users\\michi\\Desktop\\Uni\\Bachelorarbeit\\ws24_mbonart_mhn-feature-clustering\\.venv\\Lib\\site-packages\\mhn\\training\\penalties_cmhn.py:14\u001b[39m, in \u001b[36ml1\u001b[39m\u001b[34m(theta, eps)\u001b[39m\n\u001b[32m      9\u001b[39m \u001b[38;5;28;01mimport\u001b[39;00m\u001b[38;5;250m \u001b[39m\u001b[34;01mnumpy\u001b[39;00m\u001b[38;5;250m \u001b[39m\u001b[38;5;28;01mas\u001b[39;00m\u001b[38;5;250m \u001b[39m\u001b[34;01mnp\u001b[39;00m\n\u001b[32m     11\u001b[39m \u001b[38;5;28;01mfrom\u001b[39;00m\u001b[38;5;250m \u001b[39m\u001b[34;01m.\u001b[39;00m\u001b[34;01mstate_containers\u001b[39;00m\u001b[38;5;250m \u001b[39m\u001b[38;5;28;01mimport\u001b[39;00m StateContainer\n\u001b[32m---> \u001b[39m\u001b[32m14\u001b[39m \u001b[38;5;28;01mdef\u001b[39;00m\u001b[38;5;250m \u001b[39m\u001b[34ml1\u001b[39m(theta: np.ndarray, eps: \u001b[38;5;28mfloat\u001b[39m = \u001b[32m1e-05\u001b[39m) -> \u001b[38;5;28mfloat\u001b[39m:\n\u001b[32m     15\u001b[39m \u001b[38;5;250m    \u001b[39m\u001b[33;03m\"\"\"\u001b[39;00m\n\u001b[32m     16\u001b[39m \u001b[33;03m    Computes the L1 penalty. Base rates are not penalized.\u001b[39;00m\n\u001b[32m     17\u001b[39m \n\u001b[32m   (...)\u001b[39m\u001b[32m     23\u001b[39m \u001b[33;03m        float: Computed L1 penalty.\u001b[39;00m\n\u001b[32m     24\u001b[39m \u001b[33;03m    \"\"\"\u001b[39;00m\n\u001b[32m     25\u001b[39m     theta_ = theta.copy()\n",
      "\u001b[31mKeyboardInterrupt\u001b[39m: "
     ]
    }
   ],
   "source": [
    "np.random.seed(1234)\n",
    "pick_1se=False\n",
    "repetitions=5\n",
    "mhn_sizes=np.repeat([2,3,4,5],repetitions)\n",
    "lambdas=[]\n",
    "for size in mhn_sizes:\n",
    "    ev_choice=np.random.choice(events,size, replace=False)\n",
    "    print(f\"Doing cv for size {size} with events {ev_choice}\")\n",
    "    optimizer = mhn.optimizers.cMHNOptimizer()\n",
    "    reduced_data=input[ev_choice]\n",
    "    #print(reduced_data)\n",
    "    optimizer.load_data_matrix(reduced_data)\n",
    "    lam=optimizer.lambda_from_cv(lambda_vector=mytools.getLambdaSearchRange(reduced_data), pick_1se=pick_1se)\n",
    "    lambdas.append(lam)\n"
   ]
  },
  {
   "cell_type": "code",
   "execution_count": null,
   "metadata": {},
   "outputs": [
    {
     "name": "stdout",
     "output_type": "stream",
     "text": [
      "Doing cv for size 6 with events ['PIK3CA (M)' 'EGFR (M)' 'APC (M)' 'BRAF (M)' 'BCL2/18q (Del)' 'FAT1 (M)']\n",
      "Doing cv for size 6 with events ['RB1/13q (Del)' 'KMT2D (M)' 'BRAF (M)' 'SMAD4 (M)' 'MCL1/1q (Amp)'\n",
      " 'EGFR/7p (Amp)']\n",
      "Doing cv for size 6 with events ['EPHA7/6q (Del)' 'RB1 (M)' 'BRAF (M)' 'PIK3CA (M)' 'SETD2 (M)'\n",
      " 'KMT2D (M)']\n",
      "Doing cv for size 7 with events ['TERT/5p (Amp)' 'EGFR (M)' 'CH' 'KMT2D (M)' 'FAT1 (M)' 'ERBB2 (M)'\n",
      " 'STK11 (M)']\n",
      "Doing cv for size 7 with events ['KRAS (M)' 'KEAP1 (M)' 'MCL1/1q (Amp)' 'ATRX (M)' 'NF1 (M)' 'SETD2 (M)'\n",
      " 'CDKN2A/9p (Del)']\n",
      "Doing cv for size 8 with events ['MYC/8q (Amp)' 'CH' 'BRAF (M)' 'STK11 (M)' 'KRAS (M)' 'KEAP1 (M)'\n",
      " 'PIK3CA (M)' 'SMARCA4 (M)']\n"
     ]
    }
   ],
   "source": [
    "extra_mhn_sizes=[6,6,6,7,7,8]\n",
    "for size in extra_mhn_sizes:\n",
    "    ev_choice=np.random.choice(events,size, replace=False)\n",
    "    print(f\"Doing cv for size {size} with events {ev_choice}\")\n",
    "    optimizer = mhn.optimizers.cMHNOptimizer()\n",
    "    reduced_data=input[ev_choice]\n",
    "    #print(reduced_data)\n",
    "    optimizer.load_data_matrix(reduced_data)\n",
    "    lam=optimizer.lambda_from_cv(lambda_vector=mytools.getLambdaSearchRange(reduced_data), pick_1se=pick_1se)\n",
    "    lambdas.append(lam)\n",
    "\n",
    "mhn_sizes = np.concatenate((mhn_sizes, extra_mhn_sizes))"
   ]
  },
  {
   "cell_type": "code",
   "execution_count": null,
   "metadata": {},
   "outputs": [
    {
     "name": "stdout",
     "output_type": "stream",
     "text": [
      "[3.8684819535783336e-05, 0.00038684794538259117, 3.8684819535783336e-05, 0.00012233210108109026, 0.00038684794538259117, 0.00012233210108109026, 3.8684819535783336e-05, 0.00038684794538259117, 0.00012233210108109026, 0.00012233210108109026, 0.00038684794538259117, 0.00038684794538259117, 0.00038684794538259117, 3.8684819535783336e-05, 0.0012233202203200352, 0.00012233210108109026, 0.00038684794538259117, 0.00038684794538259117, 0.00038684794538259117, 3.8684819535783336e-05, 0.00038684794538259117, 0.00038684794538259117, 0.00012233210108109026, 0.00038684794538259117, 0.00038684794538259117, 0.00012233210108109026]\n"
     ]
    },
    {
     "data": {
      "image/png": "[encoded data removed]",
      "text/plain": [
       "<Figure size 640x480 with 1 Axes>"
      ]
     },
     "metadata": {},
     "output_type": "display_data"
    }
   ],
   "source": [
    "print(lambdas)\n",
    "\n",
    "searchrange=mytools.getLambdaSearchRange(input)\n",
    "lam_mid=1.0/len(input)\n",
    "lam_max=searchrange.max()\n",
    "lam_min=searchrange.min()\n",
    "\n",
    "plt.scatter(mhn_sizes, lambdas,alpha=0.2)\n",
    "plt.hlines([lam_mid,lam_max,lam_min],min(mhn_sizes), max(mhn_sizes), colors=['b','r','r'])\n",
    "plt.yscale('log')\n"
   ]
  }
 ],
 "metadata": {
  "kernelspec": {
   "display_name": ".venv",
   "language": "python",
   "name": "python3"
  },
  "language_info": {
   "codemirror_mode": {
    "name": "ipython",
    "version": 3
   },
   "file_extension": ".py",
   "mimetype": "text/x-python",
   "name": "python",
   "nbconvert_exporter": "python",
   "pygments_lexer": "ipython3",
   "version": "3.12.3"
  }
 },
 "nbformat": 4,
 "nbformat_minor": 2
}
